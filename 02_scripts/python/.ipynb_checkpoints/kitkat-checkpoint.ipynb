{
 "cells": [
  {
   "cell_type": "code",
   "execution_count": null,
   "metadata": {},
   "outputs": [],
   "source": [
    "#DESAFIO KIT KAT (20 min)\n",
    "\n",
    "'''\n",
    "Para este desafio cumpra as tarefas abaixo e apresente a resposta correta ao final\n",
    "1> Conecte com o banco de cidades\n",
    "2> Carregue os dados de países e o nome de sua capital em um data frame\n",
    "3> Crie outro data frame apenas com os dados da linguagem \n",
    "3> Adicione uma nova coluna no data frame chamada DensidadePop que será o resultado da densidade populacional do país\n",
    "4> PERGUNTAS\n",
    "    4.1 > Quais os 5 paises com maior densidade populacional (Nome País, Nome da Capital e Densidade)\n",
    "    4.2 > Quais os 5 paises com menor densidade populacional (Nome País, Nome da Capital e Densidade)\n",
    "    4.3 > Quais os 5 línguas mais faladas no mundo e sua população\n",
    "'''\n",
    "\n",
    "import psycopg2\n",
    "import pandas.io.sql as sqlio\n",
    "import pandas as pd\n",
    "from textwrap import dedent\n",
    "\n",
    "# Conectando ao banco e abrindo um cursor\n",
    "conn = psycopg2.connect(\"dbname='cities' user='dsdb' password='dsdb2019' host='localhost'\")\n",
    "cur = conn.cursor()\n",
    "\n",
    "#3 maiores estados... lembram? - Best Practice para query \"monstro\"\n",
    "\n",
    "sql = dedent(\"\"\"\\\n",
    "  SELECT \n",
    "    p.code as codigo\n",
    "    ,p.name as pais\n",
    "    ,p.surfacearea as area\n",
    "    ,p.population as populacao\n",
    "    ,c.name as capital\n",
    "  FROM \n",
    "    country p \n",
    "    INNER JOIN city as c ON c.id = p.capital\n",
    "    ;\n",
    "  \"\"\")\n",
    "\n",
    "df_paises = sqlio.read_sql_query(sql, conn)"
   ]
  },
  {
   "cell_type": "code",
   "execution_count": null,
   "metadata": {},
   "outputs": [],
   "source": [
    "df_paises"
   ]
  },
  {
   "cell_type": "code",
   "execution_count": null,
   "metadata": {},
   "outputs": [],
   "source": [
    "df_paises['densidade'] = df_paises['populacao'] / df_paises['area']"
   ]
  },
  {
   "cell_type": "code",
   "execution_count": null,
   "metadata": {},
   "outputs": [],
   "source": [
    "df_paises"
   ]
  },
  {
   "cell_type": "code",
   "execution_count": null,
   "metadata": {},
   "outputs": [],
   "source": [
    "#Maior\n",
    "\n",
    "df_paises.sort_values('densidade',ascending=False)"
   ]
  },
  {
   "cell_type": "code",
   "execution_count": null,
   "metadata": {},
   "outputs": [],
   "source": [
    "df_paises.sort_values('densidade',ascending=True)"
   ]
  },
  {
   "cell_type": "code",
   "execution_count": null,
   "metadata": {},
   "outputs": [],
   "source": [
    "sql = dedent(\"\"\"\\\n",
    "  SELECT \n",
    "    cl.language as lingua\n",
    "    ,cl.percentage as perc\n",
    "    ,c.population as populacao\n",
    "  FROM \n",
    "    country c \n",
    "    INNER JOIN countrylanguage as cl ON (c.code = cl.countrycode)\n",
    "    ;\n",
    "  \"\"\")\n",
    "\n",
    "df_paises = sqlio.read_sql_query(sql, conn)"
   ]
  },
  {
   "cell_type": "code",
   "execution_count": null,
   "metadata": {},
   "outputs": [],
   "source": [
    "df_paises"
   ]
  },
  {
   "cell_type": "code",
   "execution_count": null,
   "metadata": {},
   "outputs": [],
   "source": [
    "df_paises['pop_idioma'] = df_paises['populacao']*(df_paises['perc']/100)"
   ]
  },
  {
   "cell_type": "code",
   "execution_count": null,
   "metadata": {},
   "outputs": [],
   "source": [
    "df_paises"
   ]
  },
  {
   "cell_type": "code",
   "execution_count": null,
   "metadata": {},
   "outputs": [],
   "source": [
    "pd.options.display.float_format = '{:,.2f}'.format\n",
    "df_paises.groupby('lingua').agg({'pop_idioma': 'sum'}).sort_values('pop_idioma', ascending=False)"
   ]
  }
 ],
 "metadata": {
  "kernelspec": {
   "display_name": "Python 3",
   "language": "python",
   "name": "python3"
  },
  "language_info": {
   "codemirror_mode": {
    "name": "ipython",
    "version": 3
   },
   "file_extension": ".py",
   "mimetype": "text/x-python",
   "name": "python",
   "nbconvert_exporter": "python",
   "pygments_lexer": "ipython3",
   "version": "3.7.4"
  }
 },
 "nbformat": 4,
 "nbformat_minor": 2
}
